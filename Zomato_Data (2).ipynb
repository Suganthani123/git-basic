{
 "cells": [
  {
   "cell_type": "code",
   "execution_count": 1,
   "id": "b988472c-b3f5-4903-8a98-ba447476a720",
   "metadata": {},
   "outputs": [
    {
     "name": "stdout",
     "output_type": "stream",
     "text": [
      "Requirement already satisfied: faker in c:\\users\\dell\\anaconda3\\lib\\site-packages (33.1.0)\n",
      "Requirement already satisfied: python-dateutil>=2.4 in c:\\users\\dell\\anaconda3\\lib\\site-packages (from faker) (2.9.0.post0)\n",
      "Requirement already satisfied: typing-extensions in c:\\users\\dell\\anaconda3\\lib\\site-packages (from faker) (4.11.0)\n",
      "Requirement already satisfied: six>=1.5 in c:\\users\\dell\\anaconda3\\lib\\site-packages (from python-dateutil>=2.4->faker) (1.16.0)\n"
     ]
    }
   ],
   "source": [
    "! pip install faker"
   ]
  },
  {
   "cell_type": "code",
   "execution_count": 2,
   "id": "4172dffa-e50c-4f00-95cd-27e0e2149a1c",
   "metadata": {},
   "outputs": [],
   "source": [
    "import pandas as pd\n",
    "import random\n",
    "from faker import Faker"
   ]
  },
  {
   "cell_type": "code",
   "execution_count": 3,
   "id": "45413108-4505-4600-82a7-f6cefe3e1747",
   "metadata": {},
   "outputs": [],
   "source": [
    "\n",
    "# Initialize Faker for generating random data\n",
    "faker = Faker()\n",
    "\n",
    "# Define sample data with realistic trends\n",
    "areas = [\"RS Puram\", \"Peelamedu\", \"Gandhipuram\", \"Saibaba Colony\", \"Race Course\"]\n",
    "pincodes = [\"641002\", \"641004\", \"641012\", \"641011\", \"641018\"]\n",
    "time_slots = [\"Breakfast\", \"Lunch\", \"Evening Snacks\", \"Dinner\", \"Late Night\"]\n",
    "categories_by_time = {\n",
    "    \"Breakfast\": [\"Veg\", \"Drinks\"],\n",
    "    \"Lunch\": [\"Veg\", \"Non-Veg\", \"Drinks\"],\n",
    "    \"Evening Snacks\": [\"Desserts\", \"Drinks\"],\n",
    "    \"Dinner\": [\"Veg\", \"Non-Veg\", \"Desserts\", \"Drinks\"],\n",
    "    \"Late Night\": [\"Drinks\", \"Desserts\"]\n",
    "}\n",
    "delivery_preferences = {\n",
    "    \"Breakfast\": [\"Delivery\", \"Takeaway\"],\n",
    "    \"Lunch\": [\"Delivery\", \"Dine-in\", \"Takeaway\"],\n",
    "    \"Evening Snacks\": [\"Takeaway\", \"Dine-in\"],\n",
    "    \"Dinner\": [\"Delivery\", \"Dine-in\"],\n",
    "    \"Late Night\": [\"Delivery\"]\n",
    "}\n"
   ]
  },
  {
   "cell_type": "code",
   "execution_count": 4,
   "id": "b70b8bde-49ce-4508-908a-790e46b98749",
   "metadata": {},
   "outputs": [],
   "source": [
    "records = 100\n",
    "data = []\n",
    "\n",
    "for _ in range(records):\n",
    "    time_slot = random.choice(time_slots)\n",
    "    area = random.choice(areas)\n",
    "    category = random.choice(categories_by_time[time_slot])\n",
    "    delivery_type = random.choice(delivery_preferences[time_slot])\n",
    "    avg_order_value = round(random.uniform(\n",
    "        100, 500) if time_slot in [\"Breakfast\", \"Evening Snacks\"] else\n",
    "        random.uniform(500, 1500), 2)\n",
    "    num_orders = random.randint(1, 50)\n",
    "    num_pg_hostels = random.randint(\n",
    "        10, 20) if area in [\"Gandhipuram\", \"Peelamedu\"] else random.randint(1, 10)\n",
    "    day_of_week = random.choice([\"Monday\", \"Tuesday\", \"Wednesday\", \"Thursday\", \"Friday\",\n",
    "                                  \"Saturday\", \"Sunday\"])\n",
    "    gender = random.choice([\"Male\", \"Female\"])\n",
    "    data.append({\n",
    "        \"Area\": area,\n",
    "        \"Pincode\": random.choice(pincodes),\n",
    "        \"Time_Slot\": time_slot,\n",
    "        \"Gender\": gender,\n",
    "        \"Num_PG_Hostels\": num_pg_hostels,\n",
    "        \"Num_Orders\": num_orders,\n",
    "        \"Avg_Order_Value\": avg_order_value,\n",
    "        \"Category\": category,\n",
    "        \"Delivery_Type\": delivery_type,\n",
    "        \"Day_of_Week\": day_of_week\n",
    "    })\n"
   ]
  },
  {
   "cell_type": "code",
   "execution_count": 5,
   "id": "9ca996ce-4d3c-44d2-8a97-c862530c67b3",
   "metadata": {},
   "outputs": [],
   "source": [
    "# Convert to a DataFrame\n",
    "data = pd.DataFrame(data)\n"
   ]
  },
  {
   "cell_type": "code",
   "execution_count": 6,
   "id": "465d7dce-3b9d-4451-95fa-d8c24a88d643",
   "metadata": {},
   "outputs": [
    {
     "name": "stdout",
     "output_type": "stream",
     "text": [
      "             Area Pincode Time_Slot  Gender  Num_PG_Hostels  Num_Orders  \\\n",
      "0       Peelamedu  641002     Lunch    Male              20          26   \n",
      "1       Peelamedu  641002    Dinner  Female              11           9   \n",
      "2        RS Puram  641018     Lunch    Male               7          11   \n",
      "3     Race Course  641004    Dinner  Female               2          49   \n",
      "4  Saibaba Colony  641002     Lunch  Female               2          43   \n",
      "\n",
      "   Avg_Order_Value  Category Delivery_Type Day_of_Week  \n",
      "0           880.09    Drinks      Takeaway     Tuesday  \n",
      "1           553.51  Desserts      Delivery      Monday  \n",
      "2          1464.68    Drinks       Dine-in      Monday  \n",
      "3          1171.90  Desserts      Delivery      Sunday  \n",
      "4           766.78    Drinks       Dine-in    Saturday  \n"
     ]
    }
   ],
   "source": [
    "# Save to CSV\n",
    "output_path = \"realistic_zomato_data.csv\"\n",
    "data.to_csv(output_path, index=False)\n",
    "\n",
    "# Preview the data\n",
    "print(data.head())\n"
   ]
  },
  {
   "cell_type": "markdown",
   "id": "f94f20b3-9f21-4e2b-bac1-0c69ca8d0567",
   "metadata": {},
   "source": [
    "\n",
    "### Adjustments Explained:\n",
    "1. **Category Rules**:\n",
    "   - Breakfast is limited to Veg and Drinks as people don't usually order Non-Veg early in the morning.\n",
    "2. **Delivery Preferences**:\n",
    "   - Dinner and Breakfast favor delivery, while snacks are often dine-in or takeaway.\n",
    "3. **Order Values**:\n",
    "   - Higher values for dinner and late-night orders to reflect real-world spending trends.\n",
    "4. **Area and Hostels**:\n",
    "   - More hostels and higher order volumes in student-dense areas.\n",
    "\n",
    "This dataset is now more aligned with real-world patterns. You can download the generated file, use it in Jupyter, and analyze it to draw realistic insights. Let me know if you need further modifications!"
   ]
  },
  {
   "cell_type": "code",
   "execution_count": null,
   "id": "4a41431e-4063-4ce6-a109-4557b9b6dd69",
   "metadata": {},
   "outputs": [],
   "source": []
  }
 ],
 "metadata": {
  "kernelspec": {
   "display_name": "Python 3 (ipykernel)",
   "language": "python",
   "name": "python3"
  },
  "language_info": {
   "codemirror_mode": {
    "name": "ipython",
    "version": 3
   },
   "file_extension": ".py",
   "mimetype": "text/x-python",
   "name": "python",
   "nbconvert_exporter": "python",
   "pygments_lexer": "ipython3",
   "version": "3.12.7"
  }
 },
 "nbformat": 4,
 "nbformat_minor": 5
}
